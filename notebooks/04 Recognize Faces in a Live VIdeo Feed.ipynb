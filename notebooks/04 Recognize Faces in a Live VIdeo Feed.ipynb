{
 "cells": [
  {
   "cell_type": "code",
   "execution_count": 1,
   "metadata": {
    "collapsed": true,
    "slideshow": {
     "slide_type": "skip"
    }
   },
   "outputs": [],
   "source": [
    "from IPython.display import YouTubeVideo\n",
    "import cv2\n",
    "import numpy as np\n",
    "import os\n",
    "import math\n",
    "from matplotlib import pyplot as plt\n",
    "from IPython.display import clear_output\n",
    "\n",
    "%matplotlib inline\n",
    "# Open a new thread to manage the external cv2 interaction\n",
    "cv2.startWindowThread()\n",
    "\n",
    "def plt_show(image, title=\"\"):\n",
    "    if len(image.shape) == 3:\n",
    "        image = cv2.cvtColor(image, cv2.COLOR_BGR2RGB)\n",
    "    plt.axis(\"off\")\n",
    "    plt.title(title)\n",
    "    plt.imshow(image, cmap=\"Greys_r\")\n",
    "    plt.show()\n",
    "    \n",
    "class FaceDetector(object):\n",
    "    def __init__(self, xml_path):\n",
    "        self.classifier = cv2.CascadeClassifier(xml_path)\n",
    "    \n",
    "    def detect(self, image, biggest_only=True):\n",
    "        scale_factor = 1.2\n",
    "        min_neighbors = 5\n",
    "        min_size = (30, 30)\n",
    "        biggest_only = True\n",
    "        flags = cv2.CASCADE_FIND_BIGGEST_OBJECT | \\\n",
    "                    cv2.CASCADE_DO_ROUGH_SEARCH if biggest_only else \\\n",
    "                    cv2.CASCADE_SCALE_IMAGE\n",
    "        faces_coord = self.classifier.detectMultiScale(frame,\n",
    "                                                       scaleFactor=scale_factor,\n",
    "                                                       minNeighbors=min_neighbors,\n",
    "                                                       minSize=min_size,\n",
    "                                                       flags=flags)\n",
    "        return faces_coord\n",
    "    \n",
    "class VideoCamera(object):\n",
    "    def __init__(self):\n",
    "        self.video = cv2.VideoCapture(0)\n",
    "\n",
    "    def __del__(self):\n",
    "        self.video.release()\n",
    "    \n",
    "    def get_frame(self, in_grayscale=False):\n",
    "        _, frame = self.video.read()\n",
    "        if in_grayscale:\n",
    "            frame = cv2.cvtColor(frame, cv2.COLOR_BGR2GRAY)\n",
    "        return frame\n",
    "\n",
    "def cut_faces(image, faces_coord):\n",
    "    faces = []\n",
    "    \n",
    "    for (x, y, w, h) in faces_coord:\n",
    "        w_rm = int(0.3 * w / 2)\n",
    "        faces.append(image[y: y + h, x + w_rm: x + w - w_rm])\n",
    "         \n",
    "    return faces\n",
    "\n",
    "def normalize_intensity(images):\n",
    "    images_norm = []\n",
    "    for image in images:\n",
    "        is_color = len(image.shape) == 3 \n",
    "        if is_color:\n",
    "            image = cv2.cvtColor(image, cv2.COLOR_BGR2GRAY)\n",
    "        images_norm.append(cv2.equalizeHist(image))\n",
    "    return images_norm\n",
    "\n",
    "def resize(images, size=(50, 50)):\n",
    "    images_norm = []\n",
    "    for image in images:\n",
    "        if image.shape < size:\n",
    "            image_norm = cv2.resize(image, size, \n",
    "                                    interpolation=cv2.INTER_AREA)\n",
    "        else:\n",
    "            image_norm = cv2.resize(image, size, \n",
    "                                    interpolation=cv2.INTER_CUBIC)\n",
    "        images_norm.append(image_norm)\n",
    "\n",
    "    return images_norm\n",
    "\n",
    "def normalize_faces(frame, faces_coord):\n",
    "    faces = cut_faces(frame, faces_coord)\n",
    "    faces = normalize_intensity(faces)\n",
    "    faces = resize(faces)\n",
    "    return faces\n",
    "\n",
    "def draw_rectangle(image, coords):\n",
    "    for (x, y, w, h) in coords:\n",
    "                cv2.rectangle(image, (x, y), (x + w, y + h), \n",
    "                              (150, 150, 0), 8)\n",
    "\n",
    "def collect_dataset():\n",
    "    images = []\n",
    "    labels = []\n",
    "    labels_dic = {}\n",
    "    people = [person for person in os.listdir(\"people/\")]\n",
    "    for i, person in enumerate(people):\n",
    "        labels_dic[i] = person\n",
    "        for image in os.listdir(\"people/\" + person):\n",
    "            images.append(cv2.imread(\"people/\" + person + '/' + image, 0))\n",
    "            labels.append(i)\n",
    "    return (images, np.array(labels), labels_dic)"
   ]
  },
  {
   "cell_type": "markdown",
   "metadata": {
    "slideshow": {
     "slide_type": "slide"
    }
   },
   "source": [
    "<img style=\"margin-top: 50px; margin-right: 30px; float: right; width: 40%\" src=\"images/face_recon_example.png\">\n",
    "\n",
    "<h1 style=\"align: center; color: \">Recognize Faces in a Live Video Feed</h1>\n",
    "<br>\n",
    "\n",
    "We have learned:\n",
    "- How to detect faces\n",
    "- How to normalize faces images\n",
    "- How to train a face recognition model in OpenCV\n",
    "- How to recognize from still images\n",
    "\n",
    "What is left?\n",
    "- Recognize faces in a live video feed\n",
    "- Apply threshold to flag unknown faces"
   ]
  },
  {
   "cell_type": "markdown",
   "metadata": {
    "slideshow": {
     "slide_type": "subslide"
    }
   },
   "source": [
    "### Load Images, load labels and train models"
   ]
  },
  {
   "cell_type": "code",
   "execution_count": 2,
   "metadata": {
    "collapsed": false,
    "slideshow": {
     "slide_type": "-"
    }
   },
   "outputs": [
    {
     "name": "stdout",
     "output_type": "stream",
     "text": [
      "Models Trained Succesfully\n"
     ]
    }
   ],
   "source": [
    "images, labels, labels_dic = collect_dataset()\n",
    "\n",
    "rec_eig = cv2.face.createEigenFaceRecognizer()\n",
    "rec_eig.train(images, labels)\n",
    "\n",
    "# needs at least two people \n",
    "# rec_fisher = cv2.face.createFisherFaceRecognizer()\n",
    "# rec_fisher.train(images, labels)\n",
    "\n",
    "rec_lbph = cv2.face.createLBPHFaceRecognizer()\n",
    "rec_lbph.train(images, labels)\n",
    "\n",
    "print \"Models Trained Succesfully\"\n"
   ]
  },
  {
   "cell_type": "code",
   "execution_count": 7,
   "metadata": {
    "collapsed": true,
    "slideshow": {
     "slide_type": "subslide"
    }
   },
   "outputs": [],
   "source": [
    "detector = FaceDetector(\"xml/frontal_face.xml\")\n",
    "webcam = VideoCamera()"
   ]
  },
  {
   "cell_type": "code",
   "execution_count": 8,
   "metadata": {
    "collapsed": false,
    "slideshow": {
     "slide_type": "-"
    }
   },
   "outputs": [
    {
     "name": "stdout",
     "output_type": "stream",
     "text": [
      "Prediction: Rodrigo\n",
      "Confidence: 145.0\n"
     ]
    }
   ],
   "source": [
    "cv2.namedWindow(\"PyData Tutorial\", cv2.WINDOW_AUTOSIZE)\n",
    "while True:\n",
    "    frame = webcam.get_frame()\n",
    "    faces_coord = detector.detect(frame, False) # detect more than one face\n",
    "    if len(faces_coord):\n",
    "        faces = normalize_faces(frame, faces_coord) # norm pipeline\n",
    "        for i, face in enumerate(faces): # for each detected face\n",
    "            pred, conf = rec_lbph.predict(face)\n",
    "            print \"Prediction: \" + labels_dic[pred].capitalize() +\\\n",
    "            \"\\nConfidence: \" + str(round(conf))\n",
    "            clear_output(wait = True)\n",
    "            cv2.putText(frame, labels_dic[pred].capitalize(),\n",
    "                        (faces_coord[i][0], faces_coord[i][1] - 10),\n",
    "                        cv2.FONT_HERSHEY_PLAIN, 3, (66, 53, 243), 2)\n",
    "        draw_rectangle(frame, faces_coord) # rectangle around face\n",
    "    cv2.putText(frame, \"ESC to exit\", (5, frame.shape[0] - 5),\n",
    "                    cv2.FONT_HERSHEY_PLAIN, 1.3, (66, 53, 243), 2, cv2.LINE_AA)\n",
    "    cv2.imshow(\"PyData Tutorial\", frame) # live feed in external\n",
    "    if cv2.waitKey(40) & 0xFF == 27:\n",
    "        cv2.destroyAllWindows()\n",
    "        break"
   ]
  },
  {
   "cell_type": "markdown",
   "metadata": {
    "slideshow": {
     "slide_type": "subslide"
    }
   },
   "source": [
    "### How is the threshold defined?\n",
    "\n",
    "<img style=\"width: 30%; float: right; margin-right: 80px\" src=\"http://www.programering.com/images/remote/ZnJvbT01MWN0byZ1cmw9Y0djcTVpTXhBVFVQMUNPWEZEUjRKVVFCSmxUeEJqYTJCblE1RVZNTTlXYUxkM0xFWnpMRFJ6THdBVFR2SURNelpXZTM5U2J2Tm1MdlIzWXhVakx6TTNMdm9EYzBSSGE.jpg\">\n",
    "<br>\n",
    "Is the actual distance between the sample image and the closest face in the training set."
   ]
  },
  {
   "cell_type": "markdown",
   "metadata": {
    "slideshow": {
     "slide_type": "subslide"
    }
   },
   "source": [
    "### Apply threshold"
   ]
  },
  {
   "cell_type": "code",
   "execution_count": null,
   "metadata": {
    "collapsed": true,
    "slideshow": {
     "slide_type": "-"
    }
   },
   "outputs": [],
   "source": [
    "cv2.namedWindow(\"PyData Tutorial\", cv2.WINDOW_AUTOSIZE)\n",
    "while True:\n",
    "    frame = webcam.get_frame()\n",
    "    faces_coord = detector.detect(frame, False) # detect more than one face\n",
    "    if len(faces_coord):\n",
    "        faces = normalize_faces(frame, faces_coord) # norm pipeline\n",
    "        for i, face in enumerate(faces): # for each detected face\n",
    "            pred, conf = rec_lbph.predict(face)\n",
    "            threshold = 5000\n",
    "            print \"Prediction: \" + labels_dic[pred].capitalize() + \"\\nConfidence: \" + str(round(conf))\n",
    "            clear_output(wait = True)\n",
    "            if conf < threshold: # apply threshold\n",
    "                cv2.putText(frame, labels_dic[pred].capitalize(),\n",
    "                            (faces_coord[i][0], faces_coord[i][1] - 10),\n",
    "                            cv2.FONT_HERSHEY_PLAIN, 3, (66, 53, 243), 2)\n",
    "            else:\n",
    "                cv2.putText(frame, \"Unknown\",\n",
    "                            (faces_coord[i][0], faces_coord[i][1]),\n",
    "                            cv2.FONT_HERSHEY_PLAIN, 3, (66, 53, 243), 2)\n",
    "        draw_rectangle(frame, faces_coord) # rectangle around face\n",
    "    cv2.putText(frame, \"ESC to exit\", (5, frame.shape[0] - 5),\n",
    "                    cv2.FONT_HERSHEY_PLAIN, 1.3, (66, 53, 243), 2, cv2.LINE_AA)\n",
    "    cv2.imshow(\"PyData Tutorial\", frame) # live feed in external\n",
    "    if cv2.waitKey(40) & 0xFF == 27:\n",
    "        cv2.destroyAllWindows()\n",
    "        break\n",
    "del webcam"
   ]
  },
  {
   "cell_type": "markdown",
   "metadata": {
    "slideshow": {
     "slide_type": "slide"
    }
   },
   "source": [
    "<div style=\"float: left; width: 50%; height: 200px; padding-bottom:40px\">\n",
    "    <img src=\"http://pydata.org/amsterdam2016/static/images/pydata-logo-amsterdam-2016.png\" alt=\"PyData Amsterdam 2016 Logo\">\n",
    "</div>\n",
    "<div style=\"float: right; width: 50%; height: 200px; padding-bottom:40px\">\n",
    "    <img style=\"height: 100%; float:right\" src=\"http://pydata.org/amsterdam2016/media/sponsor_files/qualogy_logo_350px.png\" alt=\"Qualogy Logo\">\n",
    "</div>\n",
    "\n",
    "<h1 align=\"center\">Thank you</h1>\n",
    "\n",
    "<div style=\"float: left; width: 50px\">\n",
    "<img style=\"width: 50px\" src=\"https://pmcdeadline2.files.wordpress.com/2014/06/twitter-logo.png?w=970\">\n",
    "</div>\n",
    "<br>\n",
    "<div style=\"float: left; margin-left: 10px\">\n",
    "   @rodagundez \n",
    "</div>"
   ]
  }
 ],
 "metadata": {
  "celltoolbar": "Slideshow",
  "kernelspec": {
   "display_name": "Python 2",
   "language": "python",
   "name": "python2"
  },
  "language_info": {
   "codemirror_mode": {
    "name": "ipython",
    "version": 2
   },
   "file_extension": ".py",
   "mimetype": "text/x-python",
   "name": "python",
   "nbconvert_exporter": "python",
   "pygments_lexer": "ipython2",
   "version": "2.7.6"
  }
 },
 "nbformat": 4,
 "nbformat_minor": 0
}
